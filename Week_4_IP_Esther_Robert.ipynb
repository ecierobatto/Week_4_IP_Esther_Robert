{
  "nbformat": 4,
  "nbformat_minor": 0,
  "metadata": {
    "colab": {
      "name": "Week_4_IP_Esther_Robert.ipynb",
      "provenance": [],
      "collapsed_sections": [
        "LS4eqrWqVhPi"
      ],
      "toc_visible": true,
      "authorship_tag": "ABX9TyOy/t5ut9kMLlzqcmeEs1P4",
      "include_colab_link": true
    },
    "kernelspec": {
      "name": "python3",
      "display_name": "Python 3"
    },
    "language_info": {
      "name": "python"
    }
  },
  "cells": [
    {
      "cell_type": "markdown",
      "metadata": {
        "id": "view-in-github",
        "colab_type": "text"
      },
      "source": [
        "<a href=\"https://colab.research.google.com/github/ecierobatto/Week_4_IP_Esther_Robert/blob/main/Week_4_IP_Esther_Robert.ipynb\" target=\"_parent\"><img src=\"https://colab.research.google.com/assets/colab-badge.svg\" alt=\"Open In Colab\"/></a>"
      ]
    },
    {
      "cell_type": "markdown",
      "metadata": {
        "id": "a4Okd78I91W8"
      },
      "source": [
        "# Import Libraries"
      ]
    },
    {
      "cell_type": "code",
      "metadata": {
        "id": "mNjRyn1e97Ej"
      },
      "source": [
        "import pandas as pd\n",
        "import numpy as np\n",
        "# for visualization\n",
        "import matplotlib.pyplot as plt\n",
        "import seaborn as sns"
      ],
      "execution_count": null,
      "outputs": []
    },
    {
      "cell_type": "markdown",
      "metadata": {
        "id": "d-Uwx2CR-ap5"
      },
      "source": [
        "# Dataset"
      ]
    },
    {
      "cell_type": "code",
      "metadata": {
        "id": "SuA_DnA1-fO-"
      },
      "source": [
        "# reading our dataset\n",
        "blueCars = pd.read_csv('http://bit.ly/DSCoreAutolibDataset',',')"
      ],
      "execution_count": null,
      "outputs": []
    },
    {
      "cell_type": "code",
      "metadata": {
        "colab": {
          "base_uri": "https://localhost:8080/",
          "height": 244
        },
        "id": "XngXAoqT-WG3",
        "outputId": "aeb2a7ea-c22c-493f-f08d-dd530bf2dea0"
      },
      "source": [
        "# Let's preview the first rows of our dataset\n",
        "blueCars.head()"
      ],
      "execution_count": null,
      "outputs": [
        {
          "output_type": "execute_result",
          "data": {
            "text/html": [
              "<div>\n",
              "<style scoped>\n",
              "    .dataframe tbody tr th:only-of-type {\n",
              "        vertical-align: middle;\n",
              "    }\n",
              "\n",
              "    .dataframe tbody tr th {\n",
              "        vertical-align: top;\n",
              "    }\n",
              "\n",
              "    .dataframe thead th {\n",
              "        text-align: right;\n",
              "    }\n",
              "</style>\n",
              "<table border=\"1\" class=\"dataframe\">\n",
              "  <thead>\n",
              "    <tr style=\"text-align: right;\">\n",
              "      <th></th>\n",
              "      <th>Postal code</th>\n",
              "      <th>date</th>\n",
              "      <th>n_daily_data_points</th>\n",
              "      <th>dayOfWeek</th>\n",
              "      <th>day_type</th>\n",
              "      <th>BlueCars_taken_sum</th>\n",
              "      <th>BlueCars_returned_sum</th>\n",
              "      <th>Utilib_taken_sum</th>\n",
              "      <th>Utilib_returned_sum</th>\n",
              "      <th>Utilib_14_taken_sum</th>\n",
              "      <th>Utilib_14_returned_sum</th>\n",
              "      <th>Slots_freed_sum</th>\n",
              "      <th>Slots_taken_sum</th>\n",
              "    </tr>\n",
              "  </thead>\n",
              "  <tbody>\n",
              "    <tr>\n",
              "      <th>0</th>\n",
              "      <td>75001</td>\n",
              "      <td>1/1/2018</td>\n",
              "      <td>1440</td>\n",
              "      <td>0</td>\n",
              "      <td>weekday</td>\n",
              "      <td>110</td>\n",
              "      <td>103</td>\n",
              "      <td>3</td>\n",
              "      <td>2</td>\n",
              "      <td>10</td>\n",
              "      <td>9</td>\n",
              "      <td>22</td>\n",
              "      <td>20</td>\n",
              "    </tr>\n",
              "    <tr>\n",
              "      <th>1</th>\n",
              "      <td>75001</td>\n",
              "      <td>1/2/2018</td>\n",
              "      <td>1438</td>\n",
              "      <td>1</td>\n",
              "      <td>weekday</td>\n",
              "      <td>98</td>\n",
              "      <td>94</td>\n",
              "      <td>1</td>\n",
              "      <td>1</td>\n",
              "      <td>8</td>\n",
              "      <td>8</td>\n",
              "      <td>23</td>\n",
              "      <td>22</td>\n",
              "    </tr>\n",
              "    <tr>\n",
              "      <th>2</th>\n",
              "      <td>75001</td>\n",
              "      <td>1/3/2018</td>\n",
              "      <td>1439</td>\n",
              "      <td>2</td>\n",
              "      <td>weekday</td>\n",
              "      <td>138</td>\n",
              "      <td>139</td>\n",
              "      <td>0</td>\n",
              "      <td>0</td>\n",
              "      <td>2</td>\n",
              "      <td>2</td>\n",
              "      <td>27</td>\n",
              "      <td>27</td>\n",
              "    </tr>\n",
              "    <tr>\n",
              "      <th>3</th>\n",
              "      <td>75001</td>\n",
              "      <td>1/4/2018</td>\n",
              "      <td>1320</td>\n",
              "      <td>3</td>\n",
              "      <td>weekday</td>\n",
              "      <td>104</td>\n",
              "      <td>104</td>\n",
              "      <td>2</td>\n",
              "      <td>2</td>\n",
              "      <td>9</td>\n",
              "      <td>8</td>\n",
              "      <td>25</td>\n",
              "      <td>21</td>\n",
              "    </tr>\n",
              "    <tr>\n",
              "      <th>4</th>\n",
              "      <td>75001</td>\n",
              "      <td>1/5/2018</td>\n",
              "      <td>1440</td>\n",
              "      <td>4</td>\n",
              "      <td>weekday</td>\n",
              "      <td>114</td>\n",
              "      <td>117</td>\n",
              "      <td>3</td>\n",
              "      <td>3</td>\n",
              "      <td>6</td>\n",
              "      <td>6</td>\n",
              "      <td>18</td>\n",
              "      <td>20</td>\n",
              "    </tr>\n",
              "  </tbody>\n",
              "</table>\n",
              "</div>"
            ],
            "text/plain": [
              "   Postal code      date  ...  Slots_freed_sum  Slots_taken_sum\n",
              "0        75001  1/1/2018  ...               22               20\n",
              "1        75001  1/2/2018  ...               23               22\n",
              "2        75001  1/3/2018  ...               27               27\n",
              "3        75001  1/4/2018  ...               25               21\n",
              "4        75001  1/5/2018  ...               18               20\n",
              "\n",
              "[5 rows x 13 columns]"
            ]
          },
          "metadata": {},
          "execution_count": 5
        }
      ]
    },
    {
      "cell_type": "code",
      "metadata": {
        "colab": {
          "base_uri": "https://localhost:8080/"
        },
        "id": "-1QZ4BlH_rM4",
        "outputId": "01ce28f9-c2e9-41ae-fcf8-17fcd9c34f66"
      },
      "source": [
        "# checking the shape of our dataset\n",
        "blueCars.shape\n",
        "# our dataset has 16085 rows and 13 columns"
      ],
      "execution_count": null,
      "outputs": [
        {
          "output_type": "execute_result",
          "data": {
            "text/plain": [
              "(16085, 13)"
            ]
          },
          "metadata": {},
          "execution_count": 6
        }
      ]
    },
    {
      "cell_type": "code",
      "metadata": {
        "colab": {
          "base_uri": "https://localhost:8080/"
        },
        "id": "2uy4LYei_78P",
        "outputId": "06212e90-922c-4c6e-be0d-bbaf30bd0b08"
      },
      "source": [
        "# checking for the datatypes \n",
        "blueCars.dtypes"
      ],
      "execution_count": null,
      "outputs": [
        {
          "output_type": "execute_result",
          "data": {
            "text/plain": [
              "Postal code                int64\n",
              "date                      object\n",
              "n_daily_data_points        int64\n",
              "dayOfWeek                  int64\n",
              "day_type                  object\n",
              "BlueCars_taken_sum         int64\n",
              "BlueCars_returned_sum      int64\n",
              "Utilib_taken_sum           int64\n",
              "Utilib_returned_sum        int64\n",
              "Utilib_14_taken_sum        int64\n",
              "Utilib_14_returned_sum     int64\n",
              "Slots_freed_sum            int64\n",
              "Slots_taken_sum            int64\n",
              "dtype: object"
            ]
          },
          "metadata": {},
          "execution_count": 7
        }
      ]
    },
    {
      "cell_type": "code",
      "metadata": {
        "id": "AAl4vGi1Aa-x"
      },
      "source": [
        "# changing data from object to datetime64[ns]\n",
        "#blueCars['date'] = pd.to_datetime(blueCars['date'], format='%m/%d/%y')"
      ],
      "execution_count": null,
      "outputs": []
    },
    {
      "cell_type": "code",
      "metadata": {
        "colab": {
          "base_uri": "https://localhost:8080/",
          "height": 244
        },
        "id": "IxrtyeZMCt5Z",
        "outputId": "4d5649c2-7e6e-4fba-f737-592178df5551"
      },
      "source": [
        "blueCars.head()"
      ],
      "execution_count": null,
      "outputs": [
        {
          "output_type": "execute_result",
          "data": {
            "text/html": [
              "<div>\n",
              "<style scoped>\n",
              "    .dataframe tbody tr th:only-of-type {\n",
              "        vertical-align: middle;\n",
              "    }\n",
              "\n",
              "    .dataframe tbody tr th {\n",
              "        vertical-align: top;\n",
              "    }\n",
              "\n",
              "    .dataframe thead th {\n",
              "        text-align: right;\n",
              "    }\n",
              "</style>\n",
              "<table border=\"1\" class=\"dataframe\">\n",
              "  <thead>\n",
              "    <tr style=\"text-align: right;\">\n",
              "      <th></th>\n",
              "      <th>Postal code</th>\n",
              "      <th>date</th>\n",
              "      <th>n_daily_data_points</th>\n",
              "      <th>dayOfWeek</th>\n",
              "      <th>day_type</th>\n",
              "      <th>BlueCars_taken_sum</th>\n",
              "      <th>BlueCars_returned_sum</th>\n",
              "      <th>Utilib_taken_sum</th>\n",
              "      <th>Utilib_returned_sum</th>\n",
              "      <th>Utilib_14_taken_sum</th>\n",
              "      <th>Utilib_14_returned_sum</th>\n",
              "      <th>Slots_freed_sum</th>\n",
              "      <th>Slots_taken_sum</th>\n",
              "    </tr>\n",
              "  </thead>\n",
              "  <tbody>\n",
              "    <tr>\n",
              "      <th>0</th>\n",
              "      <td>75001</td>\n",
              "      <td>1/1/2018</td>\n",
              "      <td>1440</td>\n",
              "      <td>0</td>\n",
              "      <td>weekday</td>\n",
              "      <td>110</td>\n",
              "      <td>103</td>\n",
              "      <td>3</td>\n",
              "      <td>2</td>\n",
              "      <td>10</td>\n",
              "      <td>9</td>\n",
              "      <td>22</td>\n",
              "      <td>20</td>\n",
              "    </tr>\n",
              "    <tr>\n",
              "      <th>1</th>\n",
              "      <td>75001</td>\n",
              "      <td>1/2/2018</td>\n",
              "      <td>1438</td>\n",
              "      <td>1</td>\n",
              "      <td>weekday</td>\n",
              "      <td>98</td>\n",
              "      <td>94</td>\n",
              "      <td>1</td>\n",
              "      <td>1</td>\n",
              "      <td>8</td>\n",
              "      <td>8</td>\n",
              "      <td>23</td>\n",
              "      <td>22</td>\n",
              "    </tr>\n",
              "    <tr>\n",
              "      <th>2</th>\n",
              "      <td>75001</td>\n",
              "      <td>1/3/2018</td>\n",
              "      <td>1439</td>\n",
              "      <td>2</td>\n",
              "      <td>weekday</td>\n",
              "      <td>138</td>\n",
              "      <td>139</td>\n",
              "      <td>0</td>\n",
              "      <td>0</td>\n",
              "      <td>2</td>\n",
              "      <td>2</td>\n",
              "      <td>27</td>\n",
              "      <td>27</td>\n",
              "    </tr>\n",
              "    <tr>\n",
              "      <th>3</th>\n",
              "      <td>75001</td>\n",
              "      <td>1/4/2018</td>\n",
              "      <td>1320</td>\n",
              "      <td>3</td>\n",
              "      <td>weekday</td>\n",
              "      <td>104</td>\n",
              "      <td>104</td>\n",
              "      <td>2</td>\n",
              "      <td>2</td>\n",
              "      <td>9</td>\n",
              "      <td>8</td>\n",
              "      <td>25</td>\n",
              "      <td>21</td>\n",
              "    </tr>\n",
              "    <tr>\n",
              "      <th>4</th>\n",
              "      <td>75001</td>\n",
              "      <td>1/5/2018</td>\n",
              "      <td>1440</td>\n",
              "      <td>4</td>\n",
              "      <td>weekday</td>\n",
              "      <td>114</td>\n",
              "      <td>117</td>\n",
              "      <td>3</td>\n",
              "      <td>3</td>\n",
              "      <td>6</td>\n",
              "      <td>6</td>\n",
              "      <td>18</td>\n",
              "      <td>20</td>\n",
              "    </tr>\n",
              "  </tbody>\n",
              "</table>\n",
              "</div>"
            ],
            "text/plain": [
              "   Postal code      date  ...  Slots_freed_sum  Slots_taken_sum\n",
              "0        75001  1/1/2018  ...               22               20\n",
              "1        75001  1/2/2018  ...               23               22\n",
              "2        75001  1/3/2018  ...               27               27\n",
              "3        75001  1/4/2018  ...               25               21\n",
              "4        75001  1/5/2018  ...               18               20\n",
              "\n",
              "[5 rows x 13 columns]"
            ]
          },
          "metadata": {},
          "execution_count": 9
        }
      ]
    },
    {
      "cell_type": "markdown",
      "metadata": {
        "id": "fO0oGfgPElwq"
      },
      "source": [
        "# Explore Dataset"
      ]
    },
    {
      "cell_type": "markdown",
      "metadata": {
        "id": "z01x0dQ2kw53"
      },
      "source": [
        "## Explore and Clean Dataset"
      ]
    },
    {
      "cell_type": "code",
      "metadata": {
        "id": "Eoz-xFX0EyJ-"
      },
      "source": [
        "# Missing values\n",
        "# function for checking missing values\n",
        "def missing(data):\n",
        "  # total sum of missing values\n",
        "  miss = blueCars.isnull().sum().sort_values(ascending=False)\n",
        "  # percentage of total\n",
        "  percent = (blueCars.isnull().sum()/len(blueCars)).sort_values(ascending=False)\n",
        "  # store in a dataframe\n",
        "  missing_values = pd.DataFrame({'Total Missing':miss, 'Percentage':percent})\n",
        "\n",
        "  return missing_values\n"
      ],
      "execution_count": null,
      "outputs": []
    },
    {
      "cell_type": "code",
      "metadata": {
        "colab": {
          "base_uri": "https://localhost:8080/",
          "height": 456
        },
        "id": "SWYU5PoOEBa8",
        "outputId": "3d93e382-aeae-4ede-9fe4-baf98d3417f5"
      },
      "source": [
        "# checking for the missing_values\n",
        "missing(blueCars)\n",
        "# from the output below, our dataset has no missing values"
      ],
      "execution_count": null,
      "outputs": [
        {
          "output_type": "execute_result",
          "data": {
            "text/html": [
              "<div>\n",
              "<style scoped>\n",
              "    .dataframe tbody tr th:only-of-type {\n",
              "        vertical-align: middle;\n",
              "    }\n",
              "\n",
              "    .dataframe tbody tr th {\n",
              "        vertical-align: top;\n",
              "    }\n",
              "\n",
              "    .dataframe thead th {\n",
              "        text-align: right;\n",
              "    }\n",
              "</style>\n",
              "<table border=\"1\" class=\"dataframe\">\n",
              "  <thead>\n",
              "    <tr style=\"text-align: right;\">\n",
              "      <th></th>\n",
              "      <th>Total Missing</th>\n",
              "      <th>Percentage</th>\n",
              "    </tr>\n",
              "  </thead>\n",
              "  <tbody>\n",
              "    <tr>\n",
              "      <th>Slots_taken_sum</th>\n",
              "      <td>0</td>\n",
              "      <td>0.0</td>\n",
              "    </tr>\n",
              "    <tr>\n",
              "      <th>Slots_freed_sum</th>\n",
              "      <td>0</td>\n",
              "      <td>0.0</td>\n",
              "    </tr>\n",
              "    <tr>\n",
              "      <th>Utilib_14_returned_sum</th>\n",
              "      <td>0</td>\n",
              "      <td>0.0</td>\n",
              "    </tr>\n",
              "    <tr>\n",
              "      <th>Utilib_14_taken_sum</th>\n",
              "      <td>0</td>\n",
              "      <td>0.0</td>\n",
              "    </tr>\n",
              "    <tr>\n",
              "      <th>Utilib_returned_sum</th>\n",
              "      <td>0</td>\n",
              "      <td>0.0</td>\n",
              "    </tr>\n",
              "    <tr>\n",
              "      <th>Utilib_taken_sum</th>\n",
              "      <td>0</td>\n",
              "      <td>0.0</td>\n",
              "    </tr>\n",
              "    <tr>\n",
              "      <th>BlueCars_returned_sum</th>\n",
              "      <td>0</td>\n",
              "      <td>0.0</td>\n",
              "    </tr>\n",
              "    <tr>\n",
              "      <th>BlueCars_taken_sum</th>\n",
              "      <td>0</td>\n",
              "      <td>0.0</td>\n",
              "    </tr>\n",
              "    <tr>\n",
              "      <th>day_type</th>\n",
              "      <td>0</td>\n",
              "      <td>0.0</td>\n",
              "    </tr>\n",
              "    <tr>\n",
              "      <th>dayOfWeek</th>\n",
              "      <td>0</td>\n",
              "      <td>0.0</td>\n",
              "    </tr>\n",
              "    <tr>\n",
              "      <th>n_daily_data_points</th>\n",
              "      <td>0</td>\n",
              "      <td>0.0</td>\n",
              "    </tr>\n",
              "    <tr>\n",
              "      <th>date</th>\n",
              "      <td>0</td>\n",
              "      <td>0.0</td>\n",
              "    </tr>\n",
              "    <tr>\n",
              "      <th>Postal code</th>\n",
              "      <td>0</td>\n",
              "      <td>0.0</td>\n",
              "    </tr>\n",
              "  </tbody>\n",
              "</table>\n",
              "</div>"
            ],
            "text/plain": [
              "                        Total Missing  Percentage\n",
              "Slots_taken_sum                     0         0.0\n",
              "Slots_freed_sum                     0         0.0\n",
              "Utilib_14_returned_sum              0         0.0\n",
              "Utilib_14_taken_sum                 0         0.0\n",
              "Utilib_returned_sum                 0         0.0\n",
              "Utilib_taken_sum                    0         0.0\n",
              "BlueCars_returned_sum               0         0.0\n",
              "BlueCars_taken_sum                  0         0.0\n",
              "day_type                            0         0.0\n",
              "dayOfWeek                           0         0.0\n",
              "n_daily_data_points                 0         0.0\n",
              "date                                0         0.0\n",
              "Postal code                         0         0.0"
            ]
          },
          "metadata": {},
          "execution_count": 11
        }
      ]
    },
    {
      "cell_type": "code",
      "metadata": {
        "id": "O9T37DeuJ_wI"
      },
      "source": [
        "# function for checking duplicates\n",
        "def duplicates(data):\n",
        "  # total sum of duplicates\n",
        "  duplicate = blueCars.duplicated().sum()\n",
        "  return duplicate"
      ],
      "execution_count": null,
      "outputs": []
    },
    {
      "cell_type": "code",
      "metadata": {
        "colab": {
          "base_uri": "https://localhost:8080/"
        },
        "id": "nAkhp86CKta4",
        "outputId": "c7f463ed-4487-4693-93aa-e16cd2243c8a"
      },
      "source": [
        "# checking for duplictes\n",
        "duplicates(blueCars)"
      ],
      "execution_count": null,
      "outputs": [
        {
          "output_type": "execute_result",
          "data": {
            "text/plain": [
              "0"
            ]
          },
          "metadata": {},
          "execution_count": 13
        }
      ]
    },
    {
      "cell_type": "code",
      "metadata": {
        "id": "F1UsuCXYNxnn"
      },
      "source": [
        "# Outliers\n",
        "from scipy import stats\n",
        "# calculating IQR\n",
        "Q1 = blueCars.quantile(0.25)\n",
        "Q3 = blueCars.quantile(0.75)\n",
        "IQR = Q3 - Q1\n",
        "# function for checking for outliers\n",
        "def outliers(data):\n",
        "  # using IQR to detect outliers\n",
        "  outlier = (blueCars < (Q1 - 1.5 * IQR)) |(blueCars > (Q3 + 1.5 * IQR))\n",
        "  return outlier\n",
        "\n",
        "\n",
        "# The data point where we have False that means these values are valid whereas True indicates presence of an outlier."
      ],
      "execution_count": null,
      "outputs": []
    },
    {
      "cell_type": "code",
      "metadata": {
        "colab": {
          "base_uri": "https://localhost:8080/",
          "height": 461
        },
        "id": "o3Wf1sINctYz",
        "outputId": "338c4026-d157-4ce5-ddd1-5351c12fd53f"
      },
      "source": [
        "outliers(blueCars)"
      ],
      "execution_count": null,
      "outputs": [
        {
          "output_type": "execute_result",
          "data": {
            "text/html": [
              "<div>\n",
              "<style scoped>\n",
              "    .dataframe tbody tr th:only-of-type {\n",
              "        vertical-align: middle;\n",
              "    }\n",
              "\n",
              "    .dataframe tbody tr th {\n",
              "        vertical-align: top;\n",
              "    }\n",
              "\n",
              "    .dataframe thead th {\n",
              "        text-align: right;\n",
              "    }\n",
              "</style>\n",
              "<table border=\"1\" class=\"dataframe\">\n",
              "  <thead>\n",
              "    <tr style=\"text-align: right;\">\n",
              "      <th></th>\n",
              "      <th>BlueCars_returned_sum</th>\n",
              "      <th>BlueCars_taken_sum</th>\n",
              "      <th>Postal code</th>\n",
              "      <th>Slots_freed_sum</th>\n",
              "      <th>Slots_taken_sum</th>\n",
              "      <th>Utilib_14_returned_sum</th>\n",
              "      <th>Utilib_14_taken_sum</th>\n",
              "      <th>Utilib_returned_sum</th>\n",
              "      <th>Utilib_taken_sum</th>\n",
              "      <th>date</th>\n",
              "      <th>dayOfWeek</th>\n",
              "      <th>day_type</th>\n",
              "      <th>n_daily_data_points</th>\n",
              "    </tr>\n",
              "  </thead>\n",
              "  <tbody>\n",
              "    <tr>\n",
              "      <th>0</th>\n",
              "      <td>False</td>\n",
              "      <td>False</td>\n",
              "      <td>True</td>\n",
              "      <td>True</td>\n",
              "      <td>True</td>\n",
              "      <td>False</td>\n",
              "      <td>False</td>\n",
              "      <td>False</td>\n",
              "      <td>False</td>\n",
              "      <td>False</td>\n",
              "      <td>False</td>\n",
              "      <td>False</td>\n",
              "      <td>False</td>\n",
              "    </tr>\n",
              "    <tr>\n",
              "      <th>1</th>\n",
              "      <td>False</td>\n",
              "      <td>False</td>\n",
              "      <td>True</td>\n",
              "      <td>True</td>\n",
              "      <td>True</td>\n",
              "      <td>False</td>\n",
              "      <td>False</td>\n",
              "      <td>False</td>\n",
              "      <td>False</td>\n",
              "      <td>False</td>\n",
              "      <td>False</td>\n",
              "      <td>False</td>\n",
              "      <td>False</td>\n",
              "    </tr>\n",
              "    <tr>\n",
              "      <th>2</th>\n",
              "      <td>False</td>\n",
              "      <td>False</td>\n",
              "      <td>True</td>\n",
              "      <td>True</td>\n",
              "      <td>True</td>\n",
              "      <td>False</td>\n",
              "      <td>False</td>\n",
              "      <td>False</td>\n",
              "      <td>False</td>\n",
              "      <td>False</td>\n",
              "      <td>False</td>\n",
              "      <td>False</td>\n",
              "      <td>False</td>\n",
              "    </tr>\n",
              "    <tr>\n",
              "      <th>3</th>\n",
              "      <td>False</td>\n",
              "      <td>False</td>\n",
              "      <td>True</td>\n",
              "      <td>True</td>\n",
              "      <td>True</td>\n",
              "      <td>False</td>\n",
              "      <td>False</td>\n",
              "      <td>False</td>\n",
              "      <td>False</td>\n",
              "      <td>False</td>\n",
              "      <td>False</td>\n",
              "      <td>False</td>\n",
              "      <td>True</td>\n",
              "    </tr>\n",
              "    <tr>\n",
              "      <th>4</th>\n",
              "      <td>False</td>\n",
              "      <td>False</td>\n",
              "      <td>True</td>\n",
              "      <td>True</td>\n",
              "      <td>True</td>\n",
              "      <td>False</td>\n",
              "      <td>False</td>\n",
              "      <td>False</td>\n",
              "      <td>False</td>\n",
              "      <td>False</td>\n",
              "      <td>False</td>\n",
              "      <td>False</td>\n",
              "      <td>False</td>\n",
              "    </tr>\n",
              "    <tr>\n",
              "      <th>...</th>\n",
              "      <td>...</td>\n",
              "      <td>...</td>\n",
              "      <td>...</td>\n",
              "      <td>...</td>\n",
              "      <td>...</td>\n",
              "      <td>...</td>\n",
              "      <td>...</td>\n",
              "      <td>...</td>\n",
              "      <td>...</td>\n",
              "      <td>...</td>\n",
              "      <td>...</td>\n",
              "      <td>...</td>\n",
              "      <td>...</td>\n",
              "    </tr>\n",
              "    <tr>\n",
              "      <th>16080</th>\n",
              "      <td>False</td>\n",
              "      <td>False</td>\n",
              "      <td>False</td>\n",
              "      <td>False</td>\n",
              "      <td>False</td>\n",
              "      <td>False</td>\n",
              "      <td>False</td>\n",
              "      <td>False</td>\n",
              "      <td>False</td>\n",
              "      <td>False</td>\n",
              "      <td>False</td>\n",
              "      <td>False</td>\n",
              "      <td>False</td>\n",
              "    </tr>\n",
              "    <tr>\n",
              "      <th>16081</th>\n",
              "      <td>False</td>\n",
              "      <td>False</td>\n",
              "      <td>False</td>\n",
              "      <td>False</td>\n",
              "      <td>False</td>\n",
              "      <td>False</td>\n",
              "      <td>False</td>\n",
              "      <td>False</td>\n",
              "      <td>False</td>\n",
              "      <td>False</td>\n",
              "      <td>False</td>\n",
              "      <td>False</td>\n",
              "      <td>False</td>\n",
              "    </tr>\n",
              "    <tr>\n",
              "      <th>16082</th>\n",
              "      <td>False</td>\n",
              "      <td>False</td>\n",
              "      <td>False</td>\n",
              "      <td>False</td>\n",
              "      <td>False</td>\n",
              "      <td>False</td>\n",
              "      <td>False</td>\n",
              "      <td>False</td>\n",
              "      <td>False</td>\n",
              "      <td>False</td>\n",
              "      <td>False</td>\n",
              "      <td>False</td>\n",
              "      <td>False</td>\n",
              "    </tr>\n",
              "    <tr>\n",
              "      <th>16083</th>\n",
              "      <td>False</td>\n",
              "      <td>False</td>\n",
              "      <td>False</td>\n",
              "      <td>False</td>\n",
              "      <td>False</td>\n",
              "      <td>False</td>\n",
              "      <td>False</td>\n",
              "      <td>False</td>\n",
              "      <td>False</td>\n",
              "      <td>False</td>\n",
              "      <td>False</td>\n",
              "      <td>False</td>\n",
              "      <td>False</td>\n",
              "    </tr>\n",
              "    <tr>\n",
              "      <th>16084</th>\n",
              "      <td>False</td>\n",
              "      <td>False</td>\n",
              "      <td>False</td>\n",
              "      <td>False</td>\n",
              "      <td>False</td>\n",
              "      <td>False</td>\n",
              "      <td>False</td>\n",
              "      <td>False</td>\n",
              "      <td>False</td>\n",
              "      <td>False</td>\n",
              "      <td>False</td>\n",
              "      <td>False</td>\n",
              "      <td>True</td>\n",
              "    </tr>\n",
              "  </tbody>\n",
              "</table>\n",
              "<p>16085 rows × 13 columns</p>\n",
              "</div>"
            ],
            "text/plain": [
              "       BlueCars_returned_sum  BlueCars_taken_sum  ...  day_type  n_daily_data_points\n",
              "0                      False               False  ...     False                False\n",
              "1                      False               False  ...     False                False\n",
              "2                      False               False  ...     False                False\n",
              "3                      False               False  ...     False                 True\n",
              "4                      False               False  ...     False                False\n",
              "...                      ...                 ...  ...       ...                  ...\n",
              "16080                  False               False  ...     False                False\n",
              "16081                  False               False  ...     False                False\n",
              "16082                  False               False  ...     False                False\n",
              "16083                  False               False  ...     False                False\n",
              "16084                  False               False  ...     False                 True\n",
              "\n",
              "[16085 rows x 13 columns]"
            ]
          },
          "metadata": {},
          "execution_count": 15
        }
      ]
    },
    {
      "cell_type": "code",
      "metadata": {
        "colab": {
          "base_uri": "https://localhost:8080/"
        },
        "id": "HcncY_1Ye3s2",
        "outputId": "ae301ec6-81cc-48bc-f2b7-69adac59b890"
      },
      "source": [
        "# let's now from the calculated IQR score filter out the outliers by keeping only valid values.\n",
        "blueCars = blueCars[~((blueCars < (Q1 - 1.5 * IQR)) |(blueCars > (Q3 + 1.5 * IQR))).any(axis=1)]\n",
        "blueCars.shape\n",
        "\n",
        "# below is the new shape of our dataset after we've removed outliers"
      ],
      "execution_count": null,
      "outputs": [
        {
          "output_type": "execute_result",
          "data": {
            "text/plain": [
              "(9783, 13)"
            ]
          },
          "metadata": {},
          "execution_count": 16
        }
      ]
    },
    {
      "cell_type": "markdown",
      "metadata": {
        "id": "wQOVcN8IlJPz"
      },
      "source": [
        "# Clean Data"
      ]
    },
    {
      "cell_type": "code",
      "metadata": {
        "id": "b1w2M20XjQ9F"
      },
      "source": [
        "# Export our clean dataset\n",
        "blueCars.to_csv('blueCars.csv')"
      ],
      "execution_count": null,
      "outputs": []
    },
    {
      "cell_type": "markdown",
      "metadata": {
        "id": "dnTQb1B1lTX7"
      },
      "source": [
        "# Univariate Analysis"
      ]
    },
    {
      "cell_type": "code",
      "metadata": {
        "id": "-Gg3gG3q7Ah-",
        "colab": {
          "base_uri": "https://localhost:8080/",
          "height": 414
        },
        "outputId": "b4d67f58-c85e-41b7-b572-7ba830df5f81"
      },
      "source": [
        "# displaying descriptive statistics for all the columns\n",
        "blueCars.describe(include='all')"
      ],
      "execution_count": null,
      "outputs": [
        {
          "output_type": "execute_result",
          "data": {
            "text/html": [
              "<div>\n",
              "<style scoped>\n",
              "    .dataframe tbody tr th:only-of-type {\n",
              "        vertical-align: middle;\n",
              "    }\n",
              "\n",
              "    .dataframe tbody tr th {\n",
              "        vertical-align: top;\n",
              "    }\n",
              "\n",
              "    .dataframe thead th {\n",
              "        text-align: right;\n",
              "    }\n",
              "</style>\n",
              "<table border=\"1\" class=\"dataframe\">\n",
              "  <thead>\n",
              "    <tr style=\"text-align: right;\">\n",
              "      <th></th>\n",
              "      <th>Postal code</th>\n",
              "      <th>date</th>\n",
              "      <th>n_daily_data_points</th>\n",
              "      <th>dayOfWeek</th>\n",
              "      <th>day_type</th>\n",
              "      <th>BlueCars_taken_sum</th>\n",
              "      <th>BlueCars_returned_sum</th>\n",
              "      <th>Utilib_taken_sum</th>\n",
              "      <th>Utilib_returned_sum</th>\n",
              "      <th>Utilib_14_taken_sum</th>\n",
              "      <th>Utilib_14_returned_sum</th>\n",
              "      <th>Slots_freed_sum</th>\n",
              "      <th>Slots_taken_sum</th>\n",
              "    </tr>\n",
              "  </thead>\n",
              "  <tbody>\n",
              "    <tr>\n",
              "      <th>count</th>\n",
              "      <td>9783.000000</td>\n",
              "      <td>9783</td>\n",
              "      <td>9783.000000</td>\n",
              "      <td>9783.000000</td>\n",
              "      <td>9783</td>\n",
              "      <td>9783.000000</td>\n",
              "      <td>9783.000000</td>\n",
              "      <td>9783.000000</td>\n",
              "      <td>9783.000000</td>\n",
              "      <td>9783.000000</td>\n",
              "      <td>9783.000000</td>\n",
              "      <td>9783.000000</td>\n",
              "      <td>9783.000000</td>\n",
              "    </tr>\n",
              "    <tr>\n",
              "      <th>unique</th>\n",
              "      <td>NaN</td>\n",
              "      <td>130</td>\n",
              "      <td>NaN</td>\n",
              "      <td>NaN</td>\n",
              "      <td>2</td>\n",
              "      <td>NaN</td>\n",
              "      <td>NaN</td>\n",
              "      <td>NaN</td>\n",
              "      <td>NaN</td>\n",
              "      <td>NaN</td>\n",
              "      <td>NaN</td>\n",
              "      <td>NaN</td>\n",
              "      <td>NaN</td>\n",
              "    </tr>\n",
              "    <tr>\n",
              "      <th>top</th>\n",
              "      <td>NaN</td>\n",
              "      <td>4/27/2018</td>\n",
              "      <td>NaN</td>\n",
              "      <td>NaN</td>\n",
              "      <td>weekday</td>\n",
              "      <td>NaN</td>\n",
              "      <td>NaN</td>\n",
              "      <td>NaN</td>\n",
              "      <td>NaN</td>\n",
              "      <td>NaN</td>\n",
              "      <td>NaN</td>\n",
              "      <td>NaN</td>\n",
              "      <td>NaN</td>\n",
              "    </tr>\n",
              "    <tr>\n",
              "      <th>freq</th>\n",
              "      <td>NaN</td>\n",
              "      <td>78</td>\n",
              "      <td>NaN</td>\n",
              "      <td>NaN</td>\n",
              "      <td>6820</td>\n",
              "      <td>NaN</td>\n",
              "      <td>NaN</td>\n",
              "      <td>NaN</td>\n",
              "      <td>NaN</td>\n",
              "      <td>NaN</td>\n",
              "      <td>NaN</td>\n",
              "      <td>NaN</td>\n",
              "      <td>NaN</td>\n",
              "    </tr>\n",
              "    <tr>\n",
              "      <th>mean</th>\n",
              "      <td>93104.755188</td>\n",
              "      <td>NaN</td>\n",
              "      <td>1439.698457</td>\n",
              "      <td>2.979454</td>\n",
              "      <td>NaN</td>\n",
              "      <td>49.242870</td>\n",
              "      <td>49.222324</td>\n",
              "      <td>1.498518</td>\n",
              "      <td>1.494327</td>\n",
              "      <td>3.567106</td>\n",
              "      <td>3.568231</td>\n",
              "      <td>0.697434</td>\n",
              "      <td>0.694981</td>\n",
              "    </tr>\n",
              "    <tr>\n",
              "      <th>std</th>\n",
              "      <td>1012.235885</td>\n",
              "      <td>NaN</td>\n",
              "      <td>0.564981</td>\n",
              "      <td>2.074932</td>\n",
              "      <td>NaN</td>\n",
              "      <td>46.303795</td>\n",
              "      <td>46.223838</td>\n",
              "      <td>1.909304</td>\n",
              "      <td>1.891761</td>\n",
              "      <td>3.895220</td>\n",
              "      <td>3.898348</td>\n",
              "      <td>1.833390</td>\n",
              "      <td>1.828739</td>\n",
              "    </tr>\n",
              "    <tr>\n",
              "      <th>min</th>\n",
              "      <td>91330.000000</td>\n",
              "      <td>NaN</td>\n",
              "      <td>1438.000000</td>\n",
              "      <td>0.000000</td>\n",
              "      <td>NaN</td>\n",
              "      <td>0.000000</td>\n",
              "      <td>0.000000</td>\n",
              "      <td>0.000000</td>\n",
              "      <td>0.000000</td>\n",
              "      <td>0.000000</td>\n",
              "      <td>0.000000</td>\n",
              "      <td>0.000000</td>\n",
              "      <td>0.000000</td>\n",
              "    </tr>\n",
              "    <tr>\n",
              "      <th>25%</th>\n",
              "      <td>92270.000000</td>\n",
              "      <td>NaN</td>\n",
              "      <td>1440.000000</td>\n",
              "      <td>1.000000</td>\n",
              "      <td>NaN</td>\n",
              "      <td>17.000000</td>\n",
              "      <td>17.000000</td>\n",
              "      <td>0.000000</td>\n",
              "      <td>0.000000</td>\n",
              "      <td>1.000000</td>\n",
              "      <td>1.000000</td>\n",
              "      <td>0.000000</td>\n",
              "      <td>0.000000</td>\n",
              "    </tr>\n",
              "    <tr>\n",
              "      <th>50%</th>\n",
              "      <td>93110.000000</td>\n",
              "      <td>NaN</td>\n",
              "      <td>1440.000000</td>\n",
              "      <td>3.000000</td>\n",
              "      <td>NaN</td>\n",
              "      <td>34.000000</td>\n",
              "      <td>34.000000</td>\n",
              "      <td>1.000000</td>\n",
              "      <td>1.000000</td>\n",
              "      <td>2.000000</td>\n",
              "      <td>2.000000</td>\n",
              "      <td>0.000000</td>\n",
              "      <td>0.000000</td>\n",
              "    </tr>\n",
              "    <tr>\n",
              "      <th>75%</th>\n",
              "      <td>94100.000000</td>\n",
              "      <td>NaN</td>\n",
              "      <td>1440.000000</td>\n",
              "      <td>5.000000</td>\n",
              "      <td>NaN</td>\n",
              "      <td>67.000000</td>\n",
              "      <td>67.000000</td>\n",
              "      <td>2.000000</td>\n",
              "      <td>2.000000</td>\n",
              "      <td>5.000000</td>\n",
              "      <td>5.000000</td>\n",
              "      <td>0.000000</td>\n",
              "      <td>0.000000</td>\n",
              "    </tr>\n",
              "    <tr>\n",
              "      <th>max</th>\n",
              "      <td>95880.000000</td>\n",
              "      <td>NaN</td>\n",
              "      <td>1440.000000</td>\n",
              "      <td>6.000000</td>\n",
              "      <td>NaN</td>\n",
              "      <td>293.000000</td>\n",
              "      <td>301.000000</td>\n",
              "      <td>10.000000</td>\n",
              "      <td>10.000000</td>\n",
              "      <td>23.000000</td>\n",
              "      <td>23.000000</td>\n",
              "      <td>12.000000</td>\n",
              "      <td>12.000000</td>\n",
              "    </tr>\n",
              "  </tbody>\n",
              "</table>\n",
              "</div>"
            ],
            "text/plain": [
              "         Postal code       date  ...  Slots_freed_sum  Slots_taken_sum\n",
              "count    9783.000000       9783  ...      9783.000000      9783.000000\n",
              "unique           NaN        130  ...              NaN              NaN\n",
              "top              NaN  4/27/2018  ...              NaN              NaN\n",
              "freq             NaN         78  ...              NaN              NaN\n",
              "mean    93104.755188        NaN  ...         0.697434         0.694981\n",
              "std      1012.235885        NaN  ...         1.833390         1.828739\n",
              "min     91330.000000        NaN  ...         0.000000         0.000000\n",
              "25%     92270.000000        NaN  ...         0.000000         0.000000\n",
              "50%     93110.000000        NaN  ...         0.000000         0.000000\n",
              "75%     94100.000000        NaN  ...         0.000000         0.000000\n",
              "max     95880.000000        NaN  ...        12.000000        12.000000\n",
              "\n",
              "[11 rows x 13 columns]"
            ]
          },
          "metadata": {},
          "execution_count": 18
        }
      ]
    },
    {
      "cell_type": "markdown",
      "metadata": {
        "id": "O3nN2Ogal-qt"
      },
      "source": [
        "## Categorical Variables"
      ]
    },
    {
      "cell_type": "code",
      "metadata": {
        "id": "tDAEzRmKg3K8"
      },
      "source": [
        "# Frequency tables\n",
        "\n",
        "# function to display frequency tables for categorical data\n",
        "def Categorical(day):\n",
        "  if day:\n",
        "    # day_type\n",
        "    #return blueCars.day_type.value_counts()\n",
        "    # dayOfWeek\n",
        "    return blueCars.dayOfWeek.value_counts()"
      ],
      "execution_count": null,
      "outputs": []
    },
    {
      "cell_type": "code",
      "metadata": {
        "colab": {
          "base_uri": "https://localhost:8080/"
        },
        "id": "dS-yoNZzhHa3",
        "outputId": "32299e7a-858d-43dc-85f4-73cf9a70f9ae"
      },
      "source": [
        "# dayOfWeek\n",
        "Categorical('dayOfWeek')"
      ],
      "execution_count": null,
      "outputs": [
        {
          "output_type": "execute_result",
          "data": {
            "text/plain": [
              "6    1564\n",
              "0    1525\n",
              "1    1520\n",
              "5    1399\n",
              "2    1359\n",
              "4    1283\n",
              "3    1133\n",
              "Name: dayOfWeek, dtype: int64"
            ]
          },
          "metadata": {},
          "execution_count": 20
        }
      ]
    },
    {
      "cell_type": "code",
      "metadata": {
        "colab": {
          "base_uri": "https://localhost:8080/"
        },
        "id": "mYG-YQoXhKvB",
        "outputId": "0905772f-9c77-4d7d-f94c-e1ee225094db"
      },
      "source": [
        "# day_type\n",
        "Categorical('day_type')"
      ],
      "execution_count": null,
      "outputs": [
        {
          "output_type": "execute_result",
          "data": {
            "text/plain": [
              "6    1564\n",
              "0    1525\n",
              "1    1520\n",
              "5    1399\n",
              "2    1359\n",
              "4    1283\n",
              "3    1133\n",
              "Name: dayOfWeek, dtype: int64"
            ]
          },
          "metadata": {},
          "execution_count": 21
        }
      ]
    },
    {
      "cell_type": "markdown",
      "metadata": {
        "id": "NYU5Uo3DmXQw"
      },
      "source": [
        "## Visualization"
      ]
    },
    {
      "cell_type": "code",
      "metadata": {
        "id": "dK8Y2Dhn46Ek"
      },
      "source": [
        "# function to plot the univariate distribution of the Categorical columns\n",
        "col_names = ['dayOfWeek', 'day_type']\n",
        "def drawCategorical(item):\n",
        "  draw = blueCars[item].value_counts().plot.bar(title='Freq dist '+item)\n",
        "  if item == col_names:\n",
        "    return draw"
      ],
      "execution_count": null,
      "outputs": []
    },
    {
      "cell_type": "code",
      "metadata": {
        "colab": {
          "base_uri": "https://localhost:8080/",
          "height": 278
        },
        "id": "4UVi89hA5kjW",
        "outputId": "ba736586-8b90-4397-f491-f3b2a0bd801d"
      },
      "source": [
        "drawCategorical('dayOfWeek')\n",
        "plt.savefig('dayOfWeek.eps')\n"
      ],
      "execution_count": null,
      "outputs": [
        {
          "output_type": "display_data",
          "data": {
            "image/png": "[encoded data removed]",
            "text/plain": [
              "<Figure size 432x288 with 1 Axes>"
            ]
          },
          "metadata": {
            "needs_background": "light"
          }
        }
      ]
    },
    {
      "cell_type": "code",
      "metadata": {
        "colab": {
          "base_uri": "https://localhost:8080/",
          "height": 316
        },
        "id": "h5X2p8Mz6C5I",
        "outputId": "a3137db0-8d8f-402c-a595-654ab8cfc47d"
      },
      "source": [
        "drawCategorical('day_type')\n",
        "plt.savefig('day_type.png')"
      ],
      "execution_count": null,
      "outputs": [
        {
          "output_type": "display_data",
          "data": {
            "image/png": "[encoded data removed]",
            "text/plain": [
              "<Figure size 432x288 with 1 Axes>"
            ]
          },
          "metadata": {
            "needs_background": "light"
          }
        }
      ]
    },
    {
      "cell_type": "markdown",
      "metadata": {
        "id": "Vx-SrEcolmuX"
      },
      "source": [
        "## Numerical Variables"
      ]
    },
    {
      "cell_type": "code",
      "metadata": {
        "id": "oGDMgiscL4g8"
      },
      "source": [
        "# Measures of Central Tendency\n",
        "# 1. Mean\n",
        "# function for finding mean\n",
        "def means(data):\n",
        "  return blueCars[data].mean()\n",
        "\n"
      ],
      "execution_count": null,
      "outputs": []
    },
    {
      "cell_type": "code",
      "metadata": {
        "id": "Uxbc_XdTTa5h",
        "colab": {
          "base_uri": "https://localhost:8080/"
        },
        "outputId": "8b18d0c2-5238-4e1e-f720-536941b078a1"
      },
      "source": [
        "# Finding the mean of the BlueCars_taken_sum \n",
        "means(\"BlueCars_taken_sum\")"
      ],
      "execution_count": null,
      "outputs": [
        {
          "output_type": "execute_result",
          "data": {
            "text/plain": [
              "49.242870285188594"
            ]
          },
          "metadata": {},
          "execution_count": 26
        }
      ]
    },
    {
      "cell_type": "code",
      "metadata": {
        "id": "54pxB3sNNNO8",
        "colab": {
          "base_uri": "https://localhost:8080/"
        },
        "outputId": "028a07c2-3559-40cf-8981-ea550edae650"
      },
      "source": [
        "# Finding the mean of the BlueCars_returned_sum \n",
        "means(\"BlueCars_returned_sum\")"
      ],
      "execution_count": null,
      "outputs": [
        {
          "output_type": "execute_result",
          "data": {
            "text/plain": [
              "49.22232444035572"
            ]
          },
          "metadata": {},
          "execution_count": 27
        }
      ]
    },
    {
      "cell_type": "code",
      "metadata": {
        "id": "FFJqRjYLV8F-",
        "colab": {
          "base_uri": "https://localhost:8080/"
        },
        "outputId": "0e13e283-af69-48f5-e0c1-af1071b3e99d"
      },
      "source": [
        "means('Utilib_returned_sum')"
      ],
      "execution_count": null,
      "outputs": [
        {
          "output_type": "execute_result",
          "data": {
            "text/plain": [
              "1.494326893590923"
            ]
          },
          "metadata": {},
          "execution_count": 28
        }
      ]
    },
    {
      "cell_type": "code",
      "metadata": {
        "colab": {
          "base_uri": "https://localhost:8080/"
        },
        "id": "JFGZiu-xchWs",
        "outputId": "7e66ff87-1b67-4c81-e66b-e0f7b6cccabe"
      },
      "source": [
        "means('Utilib_14_taken_sum')"
      ],
      "execution_count": null,
      "outputs": [
        {
          "output_type": "execute_result",
          "data": {
            "text/plain": [
              "3.5671062046407034"
            ]
          },
          "metadata": {},
          "execution_count": 29
        }
      ]
    },
    {
      "cell_type": "code",
      "metadata": {
        "id": "d_CYNCk2WG5u",
        "colab": {
          "base_uri": "https://localhost:8080/"
        },
        "outputId": "e63ac3e9-41ee-4050-93cf-dbcf5818fd30"
      },
      "source": [
        "means('Utilib_14_returned_sum')"
      ],
      "execution_count": null,
      "outputs": [
        {
          "output_type": "execute_result",
          "data": {
            "text/plain": [
              "3.568230604109169"
            ]
          },
          "metadata": {},
          "execution_count": 30
        }
      ]
    },
    {
      "cell_type": "code",
      "metadata": {
        "colab": {
          "base_uri": "https://localhost:8080/"
        },
        "id": "Ks9dTN9Qc1zD",
        "outputId": "f3dfed91-99a0-4861-bd37-a9eac852ae7a"
      },
      "source": [
        "means('Slots_taken_sum')"
      ],
      "execution_count": null,
      "outputs": [
        {
          "output_type": "execute_result",
          "data": {
            "text/plain": [
              "0.694981089645303"
            ]
          },
          "metadata": {},
          "execution_count": 31
        }
      ]
    },
    {
      "cell_type": "code",
      "metadata": {
        "id": "GPSQFgVuV3j2",
        "colab": {
          "base_uri": "https://localhost:8080/"
        },
        "outputId": "9b6324c1-076c-40d5-abc7-c860721691e4"
      },
      "source": [
        "means('Slots_freed_sum')"
      ],
      "execution_count": null,
      "outputs": [
        {
          "output_type": "execute_result",
          "data": {
            "text/plain": [
              "0.6974343248492283"
            ]
          },
          "metadata": {},
          "execution_count": 32
        }
      ]
    },
    {
      "cell_type": "code",
      "metadata": {
        "id": "0ZF3q0LHTv17"
      },
      "source": [
        "# 2. mode\n",
        "# function for finding mode\n",
        "def modes(data):\n",
        "  return blueCars[data].mode()"
      ],
      "execution_count": null,
      "outputs": []
    },
    {
      "cell_type": "code",
      "metadata": {
        "colab": {
          "base_uri": "https://localhost:8080/"
        },
        "id": "LQkG8ZEDUALZ",
        "outputId": "0aeb0d82-3e6a-4198-e08c-4785108b97fa"
      },
      "source": [
        "# finding the mode for postal code\n",
        "modes(\"n_daily_data_points\").mode()"
      ],
      "execution_count": null,
      "outputs": [
        {
          "output_type": "execute_result",
          "data": {
            "text/plain": [
              "0    1440\n",
              "dtype: int64"
            ]
          },
          "metadata": {},
          "execution_count": 34
        }
      ]
    },
    {
      "cell_type": "code",
      "metadata": {
        "id": "9ZDehl9tbmeq"
      },
      "source": [
        "# 3. median\n",
        "# function for finding mode\n",
        "def med(data):\n",
        "  return blueCars[data].median()"
      ],
      "execution_count": null,
      "outputs": []
    },
    {
      "cell_type": "code",
      "metadata": {
        "colab": {
          "base_uri": "https://localhost:8080/"
        },
        "id": "rMTgttOkU1Aa",
        "outputId": "df8b5d13-fa37-4e18-ce45-9b218a3db4c4"
      },
      "source": [
        "med('BlueCars_taken_sum')"
      ],
      "execution_count": null,
      "outputs": [
        {
          "output_type": "execute_result",
          "data": {
            "text/plain": [
              "34.0"
            ]
          },
          "metadata": {},
          "execution_count": 36
        }
      ]
    },
    {
      "cell_type": "code",
      "metadata": {
        "colab": {
          "base_uri": "https://localhost:8080/"
        },
        "id": "D6m5EZoOcIrr",
        "outputId": "b2d58b35-5522-47ef-f3bd-4bdfacecd495"
      },
      "source": [
        "med('BlueCars_returned_sum')"
      ],
      "execution_count": null,
      "outputs": [
        {
          "output_type": "execute_result",
          "data": {
            "text/plain": [
              "34.0"
            ]
          },
          "metadata": {},
          "execution_count": 37
        }
      ]
    },
    {
      "cell_type": "code",
      "metadata": {
        "id": "3ct0J1wmFeU4"
      },
      "source": [
        " # Measures of Dispersion/Variability/Spread\n",
        "\n",
        " # 1. Standard deviation\n",
        "# function for finding standard deviation\n",
        "def stDev(data):\n",
        "  return blueCars[data].std() "
      ],
      "execution_count": null,
      "outputs": []
    },
    {
      "cell_type": "code",
      "metadata": {
        "colab": {
          "base_uri": "https://localhost:8080/"
        },
        "id": "aaFJ-E1dF8vD",
        "outputId": "571b155d-1a02-462b-c0e0-578049300bfc"
      },
      "source": [
        "# Finding the std of the BlueCars_taken_sum\n",
        "stDev('BlueCars_taken_sum')"
      ],
      "execution_count": null,
      "outputs": [
        {
          "output_type": "execute_result",
          "data": {
            "text/plain": [
              "46.303794622721085"
            ]
          },
          "metadata": {},
          "execution_count": 39
        }
      ]
    },
    {
      "cell_type": "code",
      "metadata": {
        "colab": {
          "base_uri": "https://localhost:8080/"
        },
        "id": "6NF9djtEGLse",
        "outputId": "ab82c163-fd26-4d76-fa7c-dc4577c12cd4"
      },
      "source": [
        "# Finding the std of the BlueCars_returned_sum\n",
        "stDev('BlueCars_returned_sum')"
      ],
      "execution_count": null,
      "outputs": [
        {
          "output_type": "execute_result",
          "data": {
            "text/plain": [
              "46.223837632122425"
            ]
          },
          "metadata": {},
          "execution_count": 40
        }
      ]
    },
    {
      "cell_type": "code",
      "metadata": {
        "colab": {
          "base_uri": "https://localhost:8080/"
        },
        "id": "JET6mKfiGU5a",
        "outputId": "e75851fc-4e71-4699-c778-d671c391a329"
      },
      "source": [
        "# Finding the std of the Utilib_taken_sum\n",
        "stDev('Utilib_taken_sum')"
      ],
      "execution_count": null,
      "outputs": [
        {
          "output_type": "execute_result",
          "data": {
            "text/plain": [
              "1.9093044596372373"
            ]
          },
          "metadata": {},
          "execution_count": 41
        }
      ]
    },
    {
      "cell_type": "code",
      "metadata": {
        "colab": {
          "base_uri": "https://localhost:8080/"
        },
        "id": "9tVYFR8wHZC5",
        "outputId": "b24b24ef-b501-42f9-dfe6-fd72673d0592"
      },
      "source": [
        "# Finding the std of the Utilib_returned_sum\n",
        "stDev('Utilib_returned_sum')"
      ],
      "execution_count": null,
      "outputs": [
        {
          "output_type": "execute_result",
          "data": {
            "text/plain": [
              "1.8917612145846532"
            ]
          },
          "metadata": {},
          "execution_count": 42
        }
      ]
    },
    {
      "cell_type": "code",
      "metadata": {
        "id": "qJEt7nSfHhwk"
      },
      "source": [
        "# 3. Range\n",
        "# Function for finding the min and max values \n",
        "def raange(vaal):\n",
        "  # Finding the max val\n",
        "  vaal_max = blueCars[vaal].max()\n",
        "  # Finding the min value\n",
        "  vaal_min = blueCars[vaal].min()\n",
        "\n",
        "# Calculating the range \n",
        "  rang = vaal_max - vaal_min\n",
        "  return rang"
      ],
      "execution_count": null,
      "outputs": []
    },
    {
      "cell_type": "code",
      "metadata": {
        "colab": {
          "base_uri": "https://localhost:8080/"
        },
        "id": "dGMXZczXIvfA",
        "outputId": "0d29e723-672a-45f7-de3e-b5af51c2ed30"
      },
      "source": [
        "# Finding the min and max values of the BlueCars_returned_sum\n",
        "raange('BlueCars_returned_sum')"
      ],
      "execution_count": null,
      "outputs": [
        {
          "output_type": "execute_result",
          "data": {
            "text/plain": [
              "301"
            ]
          },
          "metadata": {},
          "execution_count": 44
        }
      ]
    },
    {
      "cell_type": "code",
      "metadata": {
        "colab": {
          "base_uri": "https://localhost:8080/"
        },
        "id": "v8iov9MaJqS9",
        "outputId": "2ded7bfa-82fc-44a4-af37-1ff401543340"
      },
      "source": [
        "# Finding the min and max values of the BlueCars_taken_sum\n",
        "raange('BlueCars_taken_sum')"
      ],
      "execution_count": null,
      "outputs": [
        {
          "output_type": "execute_result",
          "data": {
            "text/plain": [
              "293"
            ]
          },
          "metadata": {},
          "execution_count": 45
        }
      ]
    },
    {
      "cell_type": "code",
      "metadata": {
        "id": "05ZUySGVJ-Mq"
      },
      "source": [
        "# 4. Quantiles\n",
        "\n",
        "# Function for finding the quantiles \n",
        "def Quantile(data):\n",
        "  quantile = blueCars[data].quantile([0.25,0.5,0.75])\n",
        "  return quantile"
      ],
      "execution_count": null,
      "outputs": []
    },
    {
      "cell_type": "code",
      "metadata": {
        "colab": {
          "base_uri": "https://localhost:8080/"
        },
        "id": "qoM8wPaHKBeL",
        "outputId": "ffa6daed-5b8d-47d0-b8cd-1afbeaed6988"
      },
      "source": [
        "# Finding the quantiles of the BlueCars_taken_sum\n",
        "Quantile('BlueCars_taken_sum')"
      ],
      "execution_count": null,
      "outputs": [
        {
          "output_type": "execute_result",
          "data": {
            "text/plain": [
              "0.25    17.0\n",
              "0.50    34.0\n",
              "0.75    67.0\n",
              "Name: BlueCars_taken_sum, dtype: float64"
            ]
          },
          "metadata": {},
          "execution_count": 47
        }
      ]
    },
    {
      "cell_type": "code",
      "metadata": {
        "colab": {
          "base_uri": "https://localhost:8080/"
        },
        "id": "8N4fvflRKt6-",
        "outputId": "9022cbc4-bb9f-4b78-bcde-cad6e3b98503"
      },
      "source": [
        "# Finding the quantiles of the BlueCars_returned_sum\n",
        "Quantile('BlueCars_returned_sum')"
      ],
      "execution_count": null,
      "outputs": [
        {
          "output_type": "execute_result",
          "data": {
            "text/plain": [
              "0.25    17.0\n",
              "0.50    34.0\n",
              "0.75    67.0\n",
              "Name: BlueCars_returned_sum, dtype: float64"
            ]
          },
          "metadata": {},
          "execution_count": 48
        }
      ]
    },
    {
      "cell_type": "code",
      "metadata": {
        "id": "bFfbCm_7K_SL"
      },
      "source": [
        "# 5. Skewness\n",
        "# function for determining the skewness\n",
        "def Skew(val):\n",
        "  return blueCars[val].skew()"
      ],
      "execution_count": null,
      "outputs": []
    },
    {
      "cell_type": "code",
      "metadata": {
        "colab": {
          "base_uri": "https://localhost:8080/"
        },
        "id": "EukhSh4ILLf6",
        "outputId": "a55dc463-8fb4-4955-b73c-a75b8f6dd681"
      },
      "source": [
        "# Determining the skewness of BlueCars_returned_sum\n",
        "Skew('BlueCars_returned_sum')"
      ],
      "execution_count": null,
      "outputs": [
        {
          "output_type": "execute_result",
          "data": {
            "text/plain": [
              "1.797421656681795"
            ]
          },
          "metadata": {},
          "execution_count": 50
        }
      ]
    },
    {
      "cell_type": "code",
      "metadata": {
        "colab": {
          "base_uri": "https://localhost:8080/"
        },
        "id": "-Kflw8hTLhfx",
        "outputId": "a01f8f44-d09f-4aed-a228-718b14bba681"
      },
      "source": [
        "Skew('BlueCars_taken_sum')"
      ],
      "execution_count": null,
      "outputs": [
        {
          "output_type": "execute_result",
          "data": {
            "text/plain": [
              "1.7911948887384719"
            ]
          },
          "metadata": {},
          "execution_count": 51
        }
      ]
    },
    {
      "cell_type": "code",
      "metadata": {
        "id": "3yD1L8V7LpCK"
      },
      "source": [
        "# 6. Kurtosis\n",
        "\n",
        "# function for determining the kurtosis \n",
        "def Kurtosis(val1):\n",
        "  return blueCars[val1].kurt()"
      ],
      "execution_count": null,
      "outputs": []
    },
    {
      "cell_type": "code",
      "metadata": {
        "colab": {
          "base_uri": "https://localhost:8080/"
        },
        "id": "p_Lxv5dJMN_n",
        "outputId": "77ceb938-8860-4826-9245-9d0eb42c58f1"
      },
      "source": [
        "# Determining the kurtosis of BlueCars_taken_sum\n",
        "Kurtosis('BlueCars_taken_sum')"
      ],
      "execution_count": null,
      "outputs": [
        {
          "output_type": "execute_result",
          "data": {
            "text/plain": [
              "3.9107948136076676"
            ]
          },
          "metadata": {},
          "execution_count": 53
        }
      ]
    },
    {
      "cell_type": "code",
      "metadata": {
        "colab": {
          "base_uri": "https://localhost:8080/"
        },
        "id": "Kq7365ooMgqB",
        "outputId": "a922ec35-ce6a-4551-b092-76ac9bb4018f"
      },
      "source": [
        "# Determining the kurtosis of BlueCars_returned_sum\n",
        "Kurtosis('BlueCars_returned_sum')"
      ],
      "execution_count": null,
      "outputs": [
        {
          "output_type": "execute_result",
          "data": {
            "text/plain": [
              "3.9188404736411444"
            ]
          },
          "metadata": {},
          "execution_count": 54
        }
      ]
    },
    {
      "cell_type": "markdown",
      "metadata": {
        "id": "ty91Z69kMzwD"
      },
      "source": [
        "## Visualization"
      ]
    },
    {
      "cell_type": "code",
      "metadata": {
        "colab": {
          "base_uri": "https://localhost:8080/",
          "height": 336
        },
        "id": "YKpbEambM_hx",
        "outputId": "2aac3bde-5c34-45d4-b862-67b11e45ebbf"
      },
      "source": [
        "# Boxplots\n",
        "# Creating the boxplot the BlueCars_taken_sum\n",
        "#\n",
        "sns.boxplot(blueCars[\"BlueCars_taken_sum\"], showmeans=True,)\n",
        "plt.savefig('BlueCars_taken_sum.jpeg')"
      ],
      "execution_count": null,
      "outputs": [
        {
          "output_type": "stream",
          "name": "stderr",
          "text": [
            "/usr/local/lib/python3.7/dist-packages/seaborn/_decorators.py:43: FutureWarning: Pass the following variable as a keyword arg: x. From version 0.12, the only valid positional argument will be `data`, and passing other arguments without an explicit keyword will result in an error or misinterpretation.\n",
            "  FutureWarning\n"
          ]
        },
        {
          "output_type": "display_data",
          "data": {
            "image/png": "[encoded data removed]",
            "text/plain": [
              "<Figure size 432x288 with 1 Axes>"
            ]
          },
          "metadata": {
            "needs_background": "light"
          }
        }
      ]
    },
    {
      "cell_type": "code",
      "metadata": {
        "colab": {
          "base_uri": "https://localhost:8080/",
          "height": 265
        },
        "id": "G4rdWJA5NepC",
        "outputId": "8b1612a2-a2af-48ba-e398-dcc1de743a99"
      },
      "source": [
        "# Histogram\n",
        "\n",
        "# Plotting the histogram for BlueCars_returned_sum\n",
        "#\n",
        "blueCars['BlueCars_returned_sum'].hist()\n",
        "plt.savefig('BlueCars_returned_sum.png')"
      ],
      "execution_count": null,
      "outputs": [
        {
          "output_type": "display_data",
          "data": {
            "image/png": "[encoded data removed]",
            "text/plain": [
              "<Figure size 432x288 with 1 Axes>"
            ]
          },
          "metadata": {
            "needs_background": "light"
          }
        }
      ]
    },
    {
      "cell_type": "markdown",
      "metadata": {
        "id": "LS4eqrWqVhPi"
      },
      "source": [
        "# Bivariate Analysis"
      ]
    },
    {
      "cell_type": "markdown",
      "metadata": {
        "id": "QJiSp0MzwDxI"
      },
      "source": [
        "## Computations and Visualizations"
      ]
    },
    {
      "cell_type": "code",
      "metadata": {
        "id": "yFYssBerVmDz"
      },
      "source": [
        "# Numerical Analysis\n",
        "# Using Pandas: function to plot scatterplot to compare the variables\n",
        "def numericalViz(val1,val2):\n",
        "  blueCars.plot(x = val1, y = val2, kind='scatter')\n",
        "\n",
        "# Giving our scatterplot a title\n",
        "  plt.title(val1+'  '+'vs'+'  '+val2)\n",
        "\n",
        "# Labelling our x axis\n",
        "  plt.xlabel(val1)\n",
        "\n",
        "# Labelling our y axis\n",
        "  plt.ylabel(val2)\n",
        "\n",
        "# We then display our scatterplot as shown below\n",
        "# m, b = np.polyfit(x = val1, y = val2, 1)\n",
        "# plt.plot(x, m*x + b)\n",
        "  return plt.show()\n",
        "\n",
        "\n",
        "# The scatterplot graph shows that the variable diameter at breast is strongly correlated to the clearfell stampage fees.\n",
        "# This is because as the variable diameter increases the"
      ],
      "execution_count": null,
      "outputs": []
    },
    {
      "cell_type": "code",
      "metadata": {
        "id": "qjkDju3TZDtk",
        "colab": {
          "base_uri": "https://localhost:8080/"
        },
        "outputId": "1c6ba7f6-feb2-472d-c12c-261feeb25194"
      },
      "source": [
        "# BlueCars_taken_sum vs BlueCars_returned_sum\n",
        "numericalViz('BlueCars_taken_sum','BlueCars_returned_sum')\n",
        "plt.savefig('BlueCars_returned_sum.ps')\n"
      ],
      "execution_count": null,
      "outputs": [
        {
          "output_type": "display_data",
          "data": {
            "image/png": "[encoded data removed]",
            "text/plain": [
              "<Figure size 432x288 with 1 Axes>"
            ]
          },
          "metadata": {
            "needs_background": "light"
          }
        },
        {
          "output_type": "display_data",
          "data": {
            "text/plain": [
              "<Figure size 432x288 with 0 Axes>"
            ]
          },
          "metadata": {}
        }
      ]
    },
    {
      "cell_type": "code",
      "metadata": {
        "id": "GDdepKsSetCk",
        "colab": {
          "base_uri": "https://localhost:8080/"
        },
        "outputId": "3ccf157f-d9fa-4512-d4bb-36db8318e6a8"
      },
      "source": [
        "# correlation between BlueCars_taken_sum and BlueCars_returned_sum\n",
        "plt.figure(figsize=(8, 3))\n",
        "cols=['BlueCars_taken_sum','BlueCars_returned_sum']\n",
        "# plotting heatmap for the correlation\n",
        "heatmap=sns.heatmap(blueCars[cols].corr(),annot=True)\n",
        "# Give a title to the heatmap. Pad defines the distance of the title from the top of the heatmap.\n",
        "heatmap.set_title('Correlation Heatmap', fontdict={'fontsize':12}, pad=12);\n",
        "plt.savefig('correlation.png')"
      ],
      "execution_count": null,
      "outputs": [
        {
          "output_type": "display_data",
          "data": {
            "image/png": "[encoded data removed]",
            "text/plain": [
              "<Figure size 576x216 with 2 Axes>"
            ]
          },
          "metadata": {
            "needs_background": "light"
          }
        }
      ]
    },
    {
      "cell_type": "code",
      "metadata": {
        "id": "mSaNFv3hbnm1",
        "colab": {
          "base_uri": "https://localhost:8080/"
        },
        "outputId": "b8959d41-b1ec-4a82-b84b-ad6d028fc5ec"
      },
      "source": [
        "# Correlation between different numeric data\n",
        "plt.figure(figsize=(16, 6))\n",
        "# Set the range of values to be displayed on the colormap from -1 to 1, and set the annotation to True to display the correlation values on the heatmap.\n",
        "heatmap = sns.heatmap(blueCars.corr(), vmin=-1, vmax=1, annot=True)\n",
        "# Give a title to the heatmap.\n",
        "heatmap.set_title('Correlation Heatmap', fontdict={'fontsize':12}, pad=12);\n",
        "plt.savefig('Correlations.png')\n",
        "# From the output, BlueCars_taken_sum and BlueCars_returned_sum are higly positively correlated(correlation coefficient is 0.99)\n",
        "#  Utilib_taken_sum and Utilib_returned_sum are highly positively correlated(correlation coefficient is 0.9)\n",
        "# Utilib_14_taken_sum and Utilib_14_returned_sum are highly positively correlated(correlation_coefficient is 0.95)"
      ],
      "execution_count": null,
      "outputs": [
        {
          "output_type": "display_data",
          "data": {
            "image/png": "[encoded data removed]",
            "text/plain": [
              "<Figure size 1152x432 with 2 Axes>"
            ]
          },
          "metadata": {
            "needs_background": "light"
          }
        }
      ]
    },
    {
      "cell_type": "code",
      "metadata": {
        "colab": {
          "base_uri": "https://localhost:8080/"
        },
        "id": "bfbIUJ5ty8mj",
        "outputId": "2a92d9a6-e43d-4803-ac95-0dcd8094ae03"
      },
      "source": [
        "# Categorical\n",
        "modes('Postal code')"
      ],
      "execution_count": null,
      "outputs": [
        {
          "output_type": "execute_result",
          "data": {
            "text/plain": [
              "0     91330\n",
              "1     91370\n",
              "2     91400\n",
              "3     92110\n",
              "4     92120\n",
              "5     92140\n",
              "6     92160\n",
              "7     92190\n",
              "8     92210\n",
              "9     92220\n",
              "10    92230\n",
              "11    92250\n",
              "12    92260\n",
              "13    92270\n",
              "14    92290\n",
              "15    92310\n",
              "16    92320\n",
              "17    92330\n",
              "18    92350\n",
              "19    92370\n",
              "20    92380\n",
              "21    92390\n",
              "22    92420\n",
              "23    93130\n",
              "24    93170\n",
              "25    93300\n",
              "26    93310\n",
              "27    93350\n",
              "28    93360\n",
              "29    93500\n",
              "30    93600\n",
              "31    93800\n",
              "32    94100\n",
              "33    94110\n",
              "34    94130\n",
              "35    94140\n",
              "36    94150\n",
              "37    94160\n",
              "38    94220\n",
              "39    94230\n",
              "40    94300\n",
              "41    94340\n",
              "42    94410\n",
              "43    94450\n",
              "44    94500\n",
              "45    94700\n",
              "46    95100\n",
              "47    95870\n",
              "48    95880\n",
              "dtype: int64"
            ]
          },
          "metadata": {},
          "execution_count": 61
        }
      ]
    },
    {
      "cell_type": "code",
      "metadata": {
        "id": "blQvWUg20k0-"
      },
      "source": [
        "# function to \n",
        "def location(post_code):\n",
        "  post = blueCars['Postal code'] == post_code\n",
        "  if post_code:\n",
        " # dayOfWeek   \n",
        "    return blueCars[post].dayOfWeek.value_counts()\n",
        "# day_type\n",
        "    #return blueCars[post].day_type.value_counts()"
      ],
      "execution_count": null,
      "outputs": []
    },
    {
      "cell_type": "code",
      "metadata": {
        "colab": {
          "base_uri": "https://localhost:8080/"
        },
        "id": "qVxg8WEO28e9",
        "outputId": "f4abb53f-0fff-4a0d-81ec-0a6bbf4717f6"
      },
      "source": [
        "location(91330)"
      ],
      "execution_count": null,
      "outputs": [
        {
          "output_type": "execute_result",
          "data": {
            "text/plain": [
              "6    21\n",
              "1    20\n",
              "0    20\n",
              "5    19\n",
              "2    18\n",
              "4    17\n",
              "3    15\n",
              "Name: dayOfWeek, dtype: int64"
            ]
          },
          "metadata": {},
          "execution_count": 63
        }
      ]
    },
    {
      "cell_type": "code",
      "metadata": {
        "colab": {
          "base_uri": "https://localhost:8080/"
        },
        "id": "UL4PxzX51Hts",
        "outputId": "36059263-b841-47cc-ddc8-a2b6d6769260"
      },
      "source": [
        "location(92330)"
      ],
      "execution_count": null,
      "outputs": [
        {
          "output_type": "execute_result",
          "data": {
            "text/plain": [
              "6    21\n",
              "1    20\n",
              "0    20\n",
              "5    19\n",
              "2    18\n",
              "4    17\n",
              "3    15\n",
              "Name: dayOfWeek, dtype: int64"
            ]
          },
          "metadata": {},
          "execution_count": 64
        }
      ]
    },
    {
      "cell_type": "code",
      "metadata": {
        "colab": {
          "base_uri": "https://localhost:8080/"
        },
        "id": "CDqEG8P95id6",
        "outputId": "fdcfc662-086e-4d83-a685-0d103742f663"
      },
      "source": [
        "location(93350)"
      ],
      "execution_count": null,
      "outputs": [
        {
          "output_type": "execute_result",
          "data": {
            "text/plain": [
              "6    21\n",
              "1    20\n",
              "0    20\n",
              "5    19\n",
              "2    18\n",
              "4    17\n",
              "3    15\n",
              "Name: dayOfWeek, dtype: int64"
            ]
          },
          "metadata": {},
          "execution_count": 65
        }
      ]
    },
    {
      "cell_type": "code",
      "metadata": {
        "colab": {
          "base_uri": "https://localhost:8080/"
        },
        "id": "d64kMJ2I5s3I",
        "outputId": "5c0cbd5d-bdcf-400d-c5c5-3d618ea47ec7"
      },
      "source": [
        "location(94450)"
      ],
      "execution_count": null,
      "outputs": [
        {
          "output_type": "execute_result",
          "data": {
            "text/plain": [
              "6    21\n",
              "1    20\n",
              "0    20\n",
              "5    19\n",
              "2    18\n",
              "4    17\n",
              "3    15\n",
              "Name: dayOfWeek, dtype: int64"
            ]
          },
          "metadata": {},
          "execution_count": 66
        }
      ]
    },
    {
      "cell_type": "code",
      "metadata": {
        "colab": {
          "base_uri": "https://localhost:8080/"
        },
        "id": "QsF2Bdu16NlZ",
        "outputId": "fc06ef1b-8e82-4003-c51a-126783362132"
      },
      "source": [
        "location(95880)"
      ],
      "execution_count": null,
      "outputs": [
        {
          "output_type": "execute_result",
          "data": {
            "text/plain": [
              "6    21\n",
              "1    20\n",
              "0    20\n",
              "5    19\n",
              "2    18\n",
              "4    17\n",
              "3    15\n",
              "Name: dayOfWeek, dtype: int64"
            ]
          },
          "metadata": {},
          "execution_count": 67
        }
      ]
    },
    {
      "cell_type": "code",
      "metadata": {
        "colab": {
          "base_uri": "https://localhost:8080/"
        },
        "id": "seRI8-rI6TeQ",
        "outputId": "08c5555a-8501-4112-9e85-eec3d0310751"
      },
      "source": [
        "location(91330)"
      ],
      "execution_count": null,
      "outputs": [
        {
          "output_type": "execute_result",
          "data": {
            "text/plain": [
              "6    21\n",
              "1    20\n",
              "0    20\n",
              "5    19\n",
              "2    18\n",
              "4    17\n",
              "3    15\n",
              "Name: dayOfWeek, dtype: int64"
            ]
          },
          "metadata": {},
          "execution_count": 68
        }
      ]
    },
    {
      "cell_type": "code",
      "metadata": {
        "colab": {
          "base_uri": "https://localhost:8080/"
        },
        "id": "aah0ThfS7j-0",
        "outputId": "1052efd3-025c-4ac0-cb30-0f3ddf4ebbf5"
      },
      "source": [
        "# Stacked Column Chart\n",
        "# In this example, we will first create a stacked column chart from an array and numpy arrays \n",
        "# \n",
        "postal = ['91330', '92330', '93350']\n",
        "\n",
        "weekday   = np.array([90,90,90])\n",
        "weekend   = np.array([40,40,40])\n",
        "\n",
        "\n",
        "X = [post for post in postal]\n",
        "\n",
        "# We stack the weekday bars on top of the weekend bars and similarly weekend bar on bottom\n",
        "# by passing the parameter bottom in the plt.bar () as shown below\n",
        "# \n",
        "plt.bar(X, weekday, width=0.6, label='weekday', color='gold', bottom=weekend)\n",
        "plt.bar(X, weekend, width=0.6, label='weekend', color='silver')\n",
        "\n",
        "\n",
        "# labeling our y axis\n",
        "plt.ylabel(\"Day_type of Week\")\n",
        "\n",
        "# Labeling our x axis\n",
        "plt.xlabel(\"Postal_Code\")\n",
        "\n",
        "# Creating a key/legend for our chart\n",
        "plt.legend(loc=\"upper right\")\n",
        "\n",
        "# Adding a title\n",
        "plt.title(\"Day_type of Week for respective Postal codes\")\n",
        "\n",
        "# Displaying our chart\n",
        "plt.show()\n",
        "plt.savefig('Day_type of Week for respective Postal codes.eps')"
      ],
      "execution_count": null,
      "outputs": [
        {
          "output_type": "display_data",
          "data": {
            "image/png": "[encoded data removed]",
            "text/plain": [
              "<Figure size 432x288 with 1 Axes>"
            ]
          },
          "metadata": {
            "needs_background": "light"
          }
        },
        {
          "output_type": "display_data",
          "data": {
            "text/plain": [
              "<Figure size 432x288 with 0 Axes>"
            ]
          },
          "metadata": {}
        }
      ]
    },
    {
      "cell_type": "code",
      "metadata": {
        "colab": {
          "base_uri": "https://localhost:8080/"
        },
        "id": "i7OZHHtA-a5O",
        "outputId": "4855f2dd-5522-467b-ba09-a88bb7a689c5"
      },
      "source": [
        "# In this example, we will first create a stacked column chart from an array and numpy arrays \n",
        "# \n",
        "posts = ['91330', '94450', '95880']\n",
        "Monday   = np.array([20,20,20])\n",
        "Tuesday   = np.array([20,20,20])\n",
        "Wednesday   = np.array([18,18,18])\n",
        "Thursday   = np.array([15,15,15])\n",
        "Friday   = np.array([17,17,17])\n",
        "Saturday   = np.array([19,19,19])\n",
        "Sunday   = np.array([21,21,21])\n",
        "\n",
        "X = [post1 for post1 in posts]\n",
        "\n",
        "# We stack the Monday bars on top of the Tuesday bars and similarly Tuesday bar on top of Wednesday bars etc\n",
        "# by passing the parameter bottom in the plt.bar () as shown below\n",
        "# \n",
        "plt.bar(X, Monday, width=0.6, label='Monday', color='gold', bottom=Tuesday+Wednesday+Thursday+Friday+Saturday+Sunday)\n",
        "plt.bar(X, Tuesday, width=0.6, label='Tuesday', color='silver', bottom=Wednesday+Thursday+Friday+Saturday+Sunday)\n",
        "plt.bar(X, Wednesday, width=0.6, label='Wednesday', color='brown', bottom=Thursday+Friday+Saturday+Sunday)\n",
        "plt.bar(X, Thursday, width=0.6, label='Thursday', color='purple', bottom=Friday+Saturday+Sunday)\n",
        "plt.bar(X, Friday, width=0.6, label='Friday', color='orange', bottom=Saturday+Sunday)\n",
        "plt.bar(X, Saturday, width=0.6, label='Saturday', color='cyan', bottom=Sunday)\n",
        "plt.bar(X, Sunday, width=0.6, label='Sunday', color='blue')\n",
        "\n",
        "\n",
        "# labeling our y axis\n",
        "plt.ylabel(\"Day_Of_Week\")\n",
        "\n",
        "# Labeling our x axis\n",
        "plt.xlabel(\"Postal_Code\")\n",
        "\n",
        "# Creating a key/legend for our chart\n",
        "plt.legend(loc=\"upper right\")\n",
        "\n",
        "# Adding a title\n",
        "plt.title(\"Day of Week for respective Postal codes\")\n",
        "\n",
        "# Displaying our chart\n",
        "plt.show()\n",
        "plt.savefig('Day of Week for respective Postal codes.jpeg')"
      ],
      "execution_count": null,
      "outputs": [
        {
          "output_type": "display_data",
          "data": {
            "image/png": "[encoded data removed]",
            "text/plain": [
              "<Figure size 432x288 with 1 Axes>"
            ]
          },
          "metadata": {
            "needs_background": "light"
          }
        },
        {
          "output_type": "display_data",
          "data": {
            "text/plain": [
              "<Figure size 432x288 with 0 Axes>"
            ]
          },
          "metadata": {}
        }
      ]
    },
    {
      "cell_type": "code",
      "metadata": {
        "colab": {
          "base_uri": "https://localhost:8080/"
        },
        "id": "NSW77OViUMgj",
        "outputId": "27a34439-6e27-461a-9528-6393ffaf27d4"
      },
      "source": [
        "# Categorical Numerical\n",
        "\n",
        "# Scatter Plot\n",
        "# Plotting dayOfWeek vs BlueCars_taken_sum\n",
        "sns.catplot(x=\"dayOfWeek\", y=\"BlueCars_taken_sum\", data=blueCars)\n",
        "plt.savefig('dayOfWeek vs BlueCars_taken_sum.png')"
      ],
      "execution_count": null,
      "outputs": [
        {
          "output_type": "display_data",
          "data": {
            "image/png": "[encoded data removed]",
            "text/plain": [
              "<Figure size 360x360 with 1 Axes>"
            ]
          },
          "metadata": {
            "needs_background": "light"
          }
        }
      ]
    },
    {
      "cell_type": "code",
      "metadata": {
        "colab": {
          "base_uri": "https://localhost:8080/"
        },
        "id": "GQAIH0X5V7ja",
        "outputId": "9d67d6a5-0cfb-4f22-f105-42207908f308"
      },
      "source": [
        "# Barplot \n",
        "# Plotting the relationship between day_type, BlueCars_taken_sum and dayOfWeek\n",
        "sns.catplot(x=\"day_type\", y=\"BlueCars_taken_sum\", hue=\"dayOfWeek\", kind=\"bar\", data=blueCars)\n",
        "plt.savefig('day_type vs BlueCars_taken_sum vs dayOfWeek.eps')"
      ],
      "execution_count": null,
      "outputs": [
        {
          "output_type": "display_data",
          "data": {
            "image/png": "[encoded data removed]",
            "text/plain": [
              "<Figure size 425x360 with 1 Axes>"
            ]
          },
          "metadata": {
            "needs_background": "light"
          }
        }
      ]
    },
    {
      "cell_type": "code",
      "metadata": {
        "colab": {
          "base_uri": "https://localhost:8080/"
        },
        "id": "ACflnlzuwTlR",
        "outputId": "1cb7653e-d717-428c-a00d-7f9614d10c41"
      },
      "source": [
        "# Boxplots\n",
        "# Plotting Boxplot for  BlueCars_returned_sum vs dayOfWeek\n",
        "sns.catplot(x=\"day_type\", y=\"BlueCars_returned_sum\", kind=\"box\", data=blueCars)\n",
        "plt.savefig('day_type vs BlueCars_returned_sum vs dayOfWeek.ps')"
      ],
      "execution_count": null,
      "outputs": [
        {
          "output_type": "display_data",
          "data": {
            "image/png": "[encoded data removed]",
            "text/plain": [
              "<Figure size 360x360 with 1 Axes>"
            ]
          },
          "metadata": {
            "needs_background": "light"
          }
        }
      ]
    },
    {
      "cell_type": "code",
      "metadata": {
        "colab": {
          "base_uri": "https://localhost:8080/"
        },
        "id": "IC0-uU-JxWiK",
        "outputId": "f65e8ee9-6a2f-4b5d-91a6-caa3f9b62c20"
      },
      "source": [
        "# Plotting Boxplot to compare BlueCars_returned_sum with dayOfWeek and day_type\n",
        "sns.catplot(x=\"dayOfWeek\", y=\"BlueCars_returned_sum\", hue=\"day_type\", kind=\"box\", data=blueCars)\n",
        "plt.savefig(' BlueCars_returned_sum vs dayOfWeek vs day_types.jpg')"
      ],
      "execution_count": null,
      "outputs": [
        {
          "output_type": "display_data",
          "data": {
            "image/png": "[encoded data removed]",
            "text/plain": [
              "<Figure size 440.625x360 with 1 Axes>"
            ]
          },
          "metadata": {
            "needs_background": "light"
          }
        }
      ]
    },
    {
      "cell_type": "markdown",
      "metadata": {
        "id": "U5gqfbmBbqGK"
      },
      "source": [
        "# Hpothesis Testing"
      ]
    },
    {
      "cell_type": "code",
      "metadata": {
        "id": "9f4m-ETybmgb"
      },
      "source": [
        "# To investigate a claim about the blue cars for the Autolib electric car-sharing service company, \n",
        "# a sample of 52 postal codes were taken to test the hypothesis \n",
        "# that the number of blue cars in postal code 95880  is greater than in postal code 91330 at 0.05 level of significance\n",
        "# Null hypothesis\n",
        "# The  average number of Bluecars taken in postal code 95880  is greater than in postal code 91330\n",
        "# Alternative hypothesis\n",
        "# The average number of Bluecars taken in postal code 95880  is not greater than in postal code 91330\n",
        "\n"
      ],
      "execution_count": null,
      "outputs": []
    },
    {
      "cell_type": "code",
      "metadata": {
        "id": "MrsWLfs-3-dB",
        "colab": {
          "base_uri": "https://localhost:8080/"
        },
        "outputId": "b25d4593-9f92-4b57-a3d9-93fbfe791173"
      },
      "source": [
        "# Identifying rows with postal code '91330'\n",
        "post=blueCars['Postal code']==91330\n",
        "# generating the population\n",
        "pop_count = blueCars.groupby([post])['BlueCars_taken_sum'].count()\n",
        "pop_count\n",
        "\n",
        "# from the output, there are 130 '91330' postal codes "
      ],
      "execution_count": null,
      "outputs": [
        {
          "output_type": "execute_result",
          "data": {
            "text/plain": [
              "Postal code\n",
              "False    9653\n",
              "True      130\n",
              "Name: BlueCars_taken_sum, dtype: int64"
            ]
          },
          "metadata": {},
          "execution_count": 76
        }
      ]
    },
    {
      "cell_type": "code",
      "metadata": {
        "id": "HgyvU_2YMWt6"
      },
      "source": [
        "# identify the postal codes with 91330 \n",
        "postal_91330 = blueCars[post]\n",
        "# select the 'BlueCars_taken_sum' column \n",
        "bluecars_taken = postal_91330['BlueCars_taken_sum']"
      ],
      "execution_count": null,
      "outputs": []
    },
    {
      "cell_type": "code",
      "metadata": {
        "colab": {
          "base_uri": "https://localhost:8080/"
        },
        "id": "gv1jZqCHMYOr",
        "outputId": "b6e9106f-e1fb-4ed0-aec9-16ecdb7ca69a"
      },
      "source": [
        "# sum of bluecars taken from postal code 91330\n",
        "bluecars_taken.sum()"
      ],
      "execution_count": null,
      "outputs": [
        {
          "output_type": "execute_result",
          "data": {
            "text/plain": [
              "1584"
            ]
          },
          "metadata": {},
          "execution_count": 78
        }
      ]
    },
    {
      "cell_type": "code",
      "metadata": {
        "colab": {
          "base_uri": "https://localhost:8080/"
        },
        "id": "gE6ln1FsMfbt",
        "outputId": "73e58b2d-5c58-4561-ac9c-dd8d33e450ee"
      },
      "source": [
        "# Identify the mean of Bluecars_taken from postal code 91330\n",
        "bluecars_taken_mean = bluecars_taken.mean()\n",
        "bluecars_taken_mean"
      ],
      "execution_count": null,
      "outputs": [
        {
          "output_type": "execute_result",
          "data": {
            "text/plain": [
              "12.184615384615384"
            ]
          },
          "metadata": {},
          "execution_count": 79
        }
      ]
    },
    {
      "cell_type": "code",
      "metadata": {
        "colab": {
          "base_uri": "https://localhost:8080/"
        },
        "id": "nCCC8kcpRUOq",
        "outputId": "b36cc8aa-f901-4536-9a8e-3af8569b9594"
      },
      "source": [
        "# Identify the mean of Bluecars_taken from postal code 91330\n",
        "bluecars_taken_std = bluecars_taken.std()\n",
        "bluecars_taken_std"
      ],
      "execution_count": null,
      "outputs": [
        {
          "output_type": "execute_result",
          "data": {
            "text/plain": [
              "8.395074797682042"
            ]
          },
          "metadata": {},
          "execution_count": 80
        }
      ]
    },
    {
      "cell_type": "code",
      "metadata": {
        "colab": {
          "base_uri": "https://localhost:8080/",
          "height": 265
        },
        "id": "GkN-XYdOv4-1",
        "outputId": "86d6a68a-4f16-46d5-d7e3-682778a55e1f"
      },
      "source": [
        "# checking for normality of our new data\n",
        "from matplotlib import pyplot\n",
        "# histogram plot\n",
        "pyplot.hist(blueCars['BlueCars_taken_sum'])\n",
        "# visualizing\n",
        "pyplot.show()"
      ],
      "execution_count": null,
      "outputs": [
        {
          "output_type": "display_data",
          "data": {
            "image/png": "[encoded data removed]",
            "text/plain": [
              "<Figure size 432x288 with 1 Axes>"
            ]
          },
          "metadata": {
            "needs_background": "light"
          }
        }
      ]
    },
    {
      "cell_type": "code",
      "metadata": {
        "id": "4WeyQhbqNCz1"
      },
      "source": [
        "\n",
        "# statistical representation of the hypothesis\n",
        "# H0 : mean <= bluecars_taken.mean()\n",
        "# H1 : mean> bluecars_taken.mean()"
      ],
      "execution_count": null,
      "outputs": []
    },
    {
      "cell_type": "code",
      "metadata": {
        "colab": {
          "base_uri": "https://localhost:8080/"
        },
        "id": "8iOuwVJmHeJ-",
        "outputId": "a1abe2d7-8c5d-45d9-8e1e-4006f98b77ac"
      },
      "source": [
        "# obtaining a random sample of size 52 (40% of the population) from the population of 130\n",
        "blueCars = blueCars[post].sample(frac=0.40,replace=False)\n",
        "\n",
        "print(blueCars)"
      ],
      "execution_count": null,
      "outputs": [
        {
          "output_type": "stream",
          "name": "stdout",
          "text": [
            "      Postal code       date  ...  Slots_freed_sum  Slots_taken_sum\n",
            "3970        91330  3/16/2018  ...                0                0\n",
            "4053        91330  6/18/2018  ...                0                1\n",
            "4036        91330   6/1/2018  ...                0                0\n",
            "3903        91330   1/5/2018  ...                1                1\n",
            "3989        91330   4/4/2018  ...                3                3\n",
            "3919        91330  1/21/2018  ...                5                5\n",
            "4020        91330   5/5/2018  ...                1                0\n",
            "4015        91330  4/30/2018  ...                0                0\n",
            "4012        91330  4/27/2018  ...                2                1\n",
            "4017        91330   5/2/2018  ...                1                0\n",
            "3975        91330  3/21/2018  ...                1                1\n",
            "4047        91330  6/12/2018  ...                0                0\n",
            "3910        91330  1/12/2018  ...                1                2\n",
            "3977        91330  3/23/2018  ...                1                1\n",
            "3905        91330   1/7/2018  ...                4                2\n",
            "3915        91330  1/17/2018  ...                0                1\n",
            "3911        91330  1/13/2018  ...                2                2\n",
            "4026        91330  5/22/2018  ...                4                6\n",
            "3993        91330   4/8/2018  ...                6                5\n",
            "4001        91330  4/16/2018  ...                0                0\n",
            "3925        91330  1/27/2018  ...                2                2\n",
            "4014        91330  4/29/2018  ...                1                0\n",
            "3998        91330  4/13/2018  ...                0                0\n",
            "3909        91330  1/11/2018  ...                1                0\n",
            "3957        91330   3/3/2018  ...                0                0\n",
            "3950        91330  2/21/2018  ...                2                2\n",
            "3966        91330  3/12/2018  ...                0                0\n",
            "3930        91330   2/1/2018  ...                1                2\n",
            "4050        91330  6/15/2018  ...                0                0\n",
            "3932        91330   2/3/2018  ...                1                1\n",
            "3901        91330   1/3/2018  ...                1                1\n",
            "3990        91330   4/5/2018  ...                3                3\n",
            "3959        91330   3/5/2018  ...                1                1\n",
            "3912        91330  1/14/2018  ...                0                0\n",
            "4044        91330   6/9/2018  ...                0                1\n",
            "3967        91330  3/13/2018  ...                2                1\n",
            "3942        91330  2/13/2018  ...                3                3\n",
            "3974        91330  3/20/2018  ...                4                4\n",
            "3914        91330  1/16/2018  ...                2                1\n",
            "4052        91330  6/17/2018  ...                5                3\n",
            "4042        91330   6/7/2018  ...                0                0\n",
            "4030        91330  5/26/2018  ...                1                1\n",
            "3985        91330  3/31/2018  ...                2                2\n",
            "4007        91330  4/22/2018  ...                3                2\n",
            "3926        91330  1/28/2018  ...                4                3\n",
            "3982        91330  3/28/2018  ...                4                4\n",
            "3900        91330   1/2/2018  ...                0                0\n",
            "4010        91330  4/25/2018  ...                0                0\n",
            "3963        91330   3/9/2018  ...                1                1\n",
            "4031        91330  5/27/2018  ...                2                1\n",
            "4041        91330   6/6/2018  ...                2                2\n",
            "3947        91330  2/18/2018  ...                4                2\n",
            "\n",
            "[52 rows x 13 columns]\n"
          ]
        }
      ]
    },
    {
      "cell_type": "code",
      "metadata": {
        "colab": {
          "base_uri": "https://localhost:8080/"
        },
        "id": "Q0Z7lF_5Ktm1",
        "outputId": "17a31427-ca29-44dd-d534-279f6d9daf7a"
      },
      "source": [
        "# sample mean of BlueCars_taken_sum\n",
        "blueCars['BlueCars_taken_sum'].mean()"
      ],
      "execution_count": null,
      "outputs": [
        {
          "output_type": "execute_result",
          "data": {
            "text/plain": [
              "11.288461538461538"
            ]
          },
          "metadata": {},
          "execution_count": 295
        }
      ]
    },
    {
      "cell_type": "code",
      "metadata": {
        "colab": {
          "base_uri": "https://localhost:8080/"
        },
        "id": "f4kH33ikLIo0",
        "outputId": "9b2c9c28-7077-4538-be4c-9c665a9d6c0c"
      },
      "source": [
        "# sample standrd deviation of BlueCars_taken_sum\n",
        "blueCars['BlueCars_taken_sum'].std()"
      ],
      "execution_count": null,
      "outputs": [
        {
          "output_type": "execute_result",
          "data": {
            "text/plain": [
              "7.7265433472239655"
            ]
          },
          "metadata": {},
          "execution_count": 296
        }
      ]
    },
    {
      "cell_type": "code",
      "metadata": {
        "colab": {
          "base_uri": "https://localhost:8080/"
        },
        "id": "QCGMCKPhQoDc",
        "outputId": "98bec4db-6551-4229-b59e-452451ac5963"
      },
      "source": [
        "# calculating  z-score\n",
        "zscore = ( 11.288 - 12.184 ) / 8.395\n",
        "zscore"
      ],
      "execution_count": null,
      "outputs": [
        {
          "output_type": "execute_result",
          "data": {
            "text/plain": [
              "-0.10673019654556272"
            ]
          },
          "metadata": {},
          "execution_count": 298
        }
      ]
    },
    {
      "cell_type": "code",
      "metadata": {
        "colab": {
          "base_uri": "https://localhost:8080/"
        },
        "id": "hKcc0mW0R52U",
        "outputId": "0aab8663-7b5b-463f-f6bb-bbb6c70305c7"
      },
      "source": [
        "# calculating the P-value\n",
        "from scipy.stats import norm\n",
        "prob = stats.norm.cdf(zscore)\n",
        "prob\n",
        "\n",
        " "
      ],
      "execution_count": null,
      "outputs": [
        {
          "output_type": "execute_result",
          "data": {
            "text/plain": [
              "0.4575015130246944"
            ]
          },
          "metadata": {},
          "execution_count": 299
        }
      ]
    },
    {
      "cell_type": "code",
      "metadata": {
        "id": "vDoYYvINTRG5"
      },
      "source": [
        "# from the result the p-value is 0.457\n",
        "# So, we fail to reject the null hypothesis and the p-value should be greater than 0.05 in either direction of the bell curve. \n",
        "# Since the p-value is greater than 0.05%, we cannot reject the null hypothesis \n",
        "# and clearly state that the average number of Bluecars taken in postal code 95880 \n",
        "# is not greater than in average number of Bluecars taken in postal code 91330"
      ],
      "execution_count": null,
      "outputs": []
    },
    {
      "cell_type": "code",
      "metadata": {
        "colab": {
          "base_uri": "https://localhost:8080/"
        },
        "id": "EzN8tTo_0qJV",
        "outputId": "d1dd21b2-6262-4ec0-e8cb-5fb8c46fce4b"
      },
      "source": [
        "\n",
        "# buildind a confidence interval around BlueCars_taken_sum\n",
        "import scipy.stats as st\n",
        "#create 95% confidence interval for population mean weight\n",
        "st.norm.interval(alpha=0.95, loc=np.mean(blueCars['BlueCars_taken_sum']), scale=st.sem(blueCars['BlueCars_taken_sum']))\n",
        "# from the output, the confidence interval around BlueCars_taken_sum is (11.362, 16.291)"
      ],
      "execution_count": null,
      "outputs": [
        {
          "output_type": "execute_result",
          "data": {
            "text/plain": [
              "(11.362321809991448, 16.291524343854704)"
            ]
          },
          "metadata": {},
          "execution_count": 88
        }
      ]
    },
    {
      "cell_type": "code",
      "metadata": {
        "colab": {
          "base_uri": "https://localhost:8080/"
        },
        "id": "pBpAumbO35pw",
        "outputId": "e5f565f6-16d5-4518-8d6e-1c005a7c5ca3"
      },
      "source": [
        "# power of test\n",
        "# importing TTestPower\n",
        "from statsmodels.stats.power import TTestPower\n",
        "  \n",
        " # calculating power of test \n",
        "power = TTestPower()\n",
        "n_test = power.solve_power(nobs=52, effect_size = 0.9,\n",
        "                           power = None, alpha = 0.05)\n",
        "print('Power: {:.3f}'.format(n_test))\n",
        "\n",
        "# This tells us that a minimum sample size of 52 would result in a power of 1.000"
      ],
      "execution_count": null,
      "outputs": [
        {
          "output_type": "stream",
          "name": "stdout",
          "text": [
            "Power: 1.000\n"
          ]
        }
      ]
    }
  ]
}